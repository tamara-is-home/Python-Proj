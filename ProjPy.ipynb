{
 "cells": [
  {
   "cell_type": "code",
   "execution_count": 1,
   "metadata": {},
   "outputs": [],
   "source": [
    "pip install virtualenv\n",
    "!virtualenv --version\n",
    "#!pip3 install -r requirements.txt \n",
    "import pandas as pd\n",
    "import numpy as np\n",
    "import matplotlib.pyplot as plt"
   ]
  },
  {
   "cell_type": "markdown",
   "metadata": {},
   "source": [
    "### First, lets gather all the data for each activity type together"
   ]
  },
  {
   "cell_type": "code",
   "execution_count": 2,
   "metadata": {},
   "outputs": [],
   "source": [
    "def reader(type_t,n):    \n",
    "    df_whole = pd.DataFrame()\n",
    "    for i in range (1,n):\n",
    "        temp = pd.read_csv('data/'+type_t+'/'+type_t+'-'+str(i)+'.csv') # reading csv file that lies in the data folder in the same dir\n",
    "        temp.index.name = 'state'\n",
    "        temp['obs'] = i-1\n",
    "        temp.set_index('obs',append=True,inplace=True)\n",
    "        temp = temp.reorder_levels(['obs', 'state'])\n",
    "        df_whole = pd.concat((df_whole,temp),axis = 0)\n",
    "    return df_whole"
   ]
  },
  {
   "cell_type": "code",
   "execution_count": 3,
   "metadata": {},
   "outputs": [],
   "source": [
    "activities = ['idle','running','stairs','walking']\n",
    "ens = [1040,3409,166,1851]"
   ]
  },
  {
   "cell_type": "code",
   "execution_count": 4,
   "metadata": {},
   "outputs": [],
   "source": [
    "df_idle = reader(activities[0],ens[0])\n",
    "df_running = reader(activities[1],ens[1])\n",
    "df_stairs = reader(activities[2],ens[2])\n",
    "df_walking = reader(activities[3],ens[3])"
   ]
  },
  {
   "cell_type": "code",
   "execution_count": 5,
   "metadata": {},
   "outputs": [
    {
     "data": {
      "text/html": [
       "<div>\n",
       "<style scoped>\n",
       "    .dataframe tbody tr th:only-of-type {\n",
       "        vertical-align: middle;\n",
       "    }\n",
       "\n",
       "    .dataframe tbody tr th {\n",
       "        vertical-align: top;\n",
       "    }\n",
       "\n",
       "    .dataframe thead th {\n",
       "        text-align: right;\n",
       "    }\n",
       "</style>\n",
       "<table border=\"1\" class=\"dataframe\">\n",
       "  <thead>\n",
       "    <tr style=\"text-align: right;\">\n",
       "      <th></th>\n",
       "      <th></th>\n",
       "      <th>accelerometer_X</th>\n",
       "      <th>accelerometer_Y</th>\n",
       "      <th>accelerometer_Z</th>\n",
       "    </tr>\n",
       "    <tr>\n",
       "      <th>obs</th>\n",
       "      <th>state</th>\n",
       "      <th></th>\n",
       "      <th></th>\n",
       "      <th></th>\n",
       "    </tr>\n",
       "  </thead>\n",
       "  <tbody>\n",
       "    <tr>\n",
       "      <th rowspan=\"5\" valign=\"top\">0</th>\n",
       "      <th>0</th>\n",
       "      <td>1.000776</td>\n",
       "      <td>4.616021</td>\n",
       "      <td>8.576031</td>\n",
       "    </tr>\n",
       "    <tr>\n",
       "      <th>1</th>\n",
       "      <td>0.718261</td>\n",
       "      <td>4.209007</td>\n",
       "      <td>8.446744</td>\n",
       "    </tr>\n",
       "    <tr>\n",
       "      <th>2</th>\n",
       "      <td>-0.909797</td>\n",
       "      <td>-0.282516</td>\n",
       "      <td>9.203311</td>\n",
       "    </tr>\n",
       "    <tr>\n",
       "      <th>3</th>\n",
       "      <td>5.099650</td>\n",
       "      <td>0.148441</td>\n",
       "      <td>8.418014</td>\n",
       "    </tr>\n",
       "    <tr>\n",
       "      <th>4</th>\n",
       "      <td>1.762132</td>\n",
       "      <td>-0.162806</td>\n",
       "      <td>9.251195</td>\n",
       "    </tr>\n",
       "    <tr>\n",
       "      <th>...</th>\n",
       "      <th>...</th>\n",
       "      <td>...</td>\n",
       "      <td>...</td>\n",
       "      <td>...</td>\n",
       "    </tr>\n",
       "    <tr>\n",
       "      <th rowspan=\"5\" valign=\"top\">1038</th>\n",
       "      <th>25</th>\n",
       "      <td>1.292869</td>\n",
       "      <td>6.641516</td>\n",
       "      <td>7.958327</td>\n",
       "    </tr>\n",
       "    <tr>\n",
       "      <th>26</th>\n",
       "      <td>0.636858</td>\n",
       "      <td>6.311116</td>\n",
       "      <td>7.354988</td>\n",
       "    </tr>\n",
       "    <tr>\n",
       "      <th>27</th>\n",
       "      <td>-0.402226</td>\n",
       "      <td>5.382166</td>\n",
       "      <td>8.810662</td>\n",
       "    </tr>\n",
       "    <tr>\n",
       "      <th>28</th>\n",
       "      <td>-0.177171</td>\n",
       "      <td>4.692636</td>\n",
       "      <td>8.394072</td>\n",
       "    </tr>\n",
       "    <tr>\n",
       "      <th>29</th>\n",
       "      <td>2.437297</td>\n",
       "      <td>6.780380</td>\n",
       "      <td>7.163452</td>\n",
       "    </tr>\n",
       "  </tbody>\n",
       "</table>\n",
       "<p>31170 rows × 3 columns</p>\n",
       "</div>"
      ],
      "text/plain": [
       "            accelerometer_X  accelerometer_Y  accelerometer_Z\n",
       "obs  state                                                   \n",
       "0    0             1.000776         4.616021         8.576031\n",
       "     1             0.718261         4.209007         8.446744\n",
       "     2            -0.909797        -0.282516         9.203311\n",
       "     3             5.099650         0.148441         8.418014\n",
       "     4             1.762132        -0.162806         9.251195\n",
       "...                     ...              ...              ...\n",
       "1038 25            1.292869         6.641516         7.958327\n",
       "     26            0.636858         6.311116         7.354988\n",
       "     27           -0.402226         5.382166         8.810662\n",
       "     28           -0.177171         4.692636         8.394072\n",
       "     29            2.437297         6.780380         7.163452\n",
       "\n",
       "[31170 rows x 3 columns]"
      ]
     },
     "execution_count": 5,
     "metadata": {},
     "output_type": "execute_result"
    }
   ],
   "source": [
    "df_idle # mb would be better to agg it all together from the very beginning, as Im about to do that in future anyway.."
   ]
  },
  {
   "cell_type": "markdown",
   "metadata": {},
   "source": [
    "### Also, lets try to read that xml file"
   ]
  },
  {
   "cell_type": "code",
   "execution_count": 6,
   "metadata": {},
   "outputs": [
    {
     "name": "stdout",
     "output_type": "stream",
     "text": [
      "Requirement already satisfied: pandas_read_xml in e:\\pythonanaconda\\lib\\site-packages (0.0.8)\n",
      "Requirement already satisfied: idna<3,>=2.9 in e:\\pythonanaconda\\lib\\site-packages (from pandas_read_xml) (2.10)\n",
      "Requirement already satisfied: certifi<2021,>=2020.4.5.1 in e:\\pythonanaconda\\lib\\site-packages (from pandas_read_xml) (2020.6.20)\n",
      "Requirement already satisfied: xmltodict<1,>=0.12.0 in e:\\pythonanaconda\\lib\\site-packages (from pandas_read_xml) (0.12.0)\n",
      "Requirement already satisfied: numpy<2,>=1.18.4 in e:\\pythonanaconda\\lib\\site-packages (from pandas_read_xml) (1.18.5)\n",
      "Requirement already satisfied: pyarrow<1,>=0.17.0 in e:\\pythonanaconda\\lib\\site-packages (from pandas_read_xml) (0.17.1)\n",
      "Requirement already satisfied: python-dateutil<3,>=2.8.1 in e:\\pythonanaconda\\lib\\site-packages (from pandas_read_xml) (2.8.1)\n",
      "Requirement already satisfied: six<2,>=1.14.0 in e:\\pythonanaconda\\lib\\site-packages (from pandas_read_xml) (1.15.0)\n",
      "Requirement already satisfied: pandas<2,>=1.0.3 in e:\\pythonanaconda\\lib\\site-packages (from pandas_read_xml) (1.0.5)\n",
      "Requirement already satisfied: chardet<4,>=3.0.4 in e:\\pythonanaconda\\lib\\site-packages (from pandas_read_xml) (3.0.4)\n",
      "Requirement already satisfied: requests<3,>=2.23.0 in e:\\pythonanaconda\\lib\\site-packages (from pandas_read_xml) (2.24.0)\n",
      "Requirement already satisfied: urllib3<2,>=1.25.9 in e:\\pythonanaconda\\lib\\site-packages (from pandas_read_xml) (1.25.9)\n",
      "Requirement already satisfied: pytz<2021,>=2020.1 in e:\\pythonanaconda\\lib\\site-packages (from pandas_read_xml) (2020.1)\n"
     ]
    }
   ],
   "source": [
    "!pip install pandas_read_xml\n",
    "import pandas_read_xml as pdx"
   ]
  },
  {
   "cell_type": "code",
   "execution_count": 7,
   "metadata": {},
   "outputs": [],
   "source": [
    "df_xml = pdx.read_xml('AndroSensorSettings.xml')"
   ]
  },
  {
   "cell_type": "code",
   "execution_count": 8,
   "metadata": {},
   "outputs": [
    {
     "data": {
      "text/html": [
       "<div>\n",
       "<style scoped>\n",
       "    .dataframe tbody tr th:only-of-type {\n",
       "        vertical-align: middle;\n",
       "    }\n",
       "\n",
       "    .dataframe tbody tr th {\n",
       "        vertical-align: top;\n",
       "    }\n",
       "\n",
       "    .dataframe thead th {\n",
       "        text-align: right;\n",
       "    }\n",
       "</style>\n",
       "<table border=\"1\" class=\"dataframe\">\n",
       "  <thead>\n",
       "    <tr style=\"text-align: right;\">\n",
       "      <th></th>\n",
       "      <th>AndroSensorSettings</th>\n",
       "    </tr>\n",
       "  </thead>\n",
       "  <tbody>\n",
       "    <tr>\n",
       "      <th>accelerometercoord</th>\n",
       "      <td>1</td>\n",
       "    </tr>\n",
       "    <tr>\n",
       "      <th>active_sensors</th>\n",
       "      <td>locXXXaccXXXproXXXtim</td>\n",
       "    </tr>\n",
       "    <tr>\n",
       "      <th>baraltitude</th>\n",
       "      <td>disabled</td>\n",
       "    </tr>\n",
       "    <tr>\n",
       "      <th>csvformat</th>\n",
       "      <td>,</td>\n",
       "    </tr>\n",
       "    <tr>\n",
       "      <th>decimalpoints</th>\n",
       "      <td>6</td>\n",
       "    </tr>\n",
       "  </tbody>\n",
       "</table>\n",
       "</div>"
      ],
      "text/plain": [
       "                      AndroSensorSettings\n",
       "accelerometercoord                      1\n",
       "active_sensors      locXXXaccXXXproXXXtim\n",
       "baraltitude                      disabled\n",
       "csvformat                               ,\n",
       "decimalpoints                           6"
      ]
     },
     "execution_count": 8,
     "metadata": {},
     "output_type": "execute_result"
    }
   ],
   "source": [
    "df_xml.head() # cool, but useless=)"
   ]
  },
  {
   "cell_type": "markdown",
   "metadata": {},
   "source": [
    "### Ok, lets do some preparations and explorations now"
   ]
  },
  {
   "cell_type": "code",
   "execution_count": 9,
   "metadata": {},
   "outputs": [],
   "source": [
    "df_idle['status'] = 1\n",
    "df_running['status'] = 2\n",
    "df_stairs['status'] = 3\n",
    "df_walking['status'] = 4 # giving every status its number for further classification"
   ]
  },
  {
   "cell_type": "code",
   "execution_count": 10,
   "metadata": {},
   "outputs": [],
   "source": [
    "def extract(df):\n",
    "    lst = []\n",
    "    for i in range(len(df.index.levels[0])):\n",
    "        lst.append(df.loc[i,:].values)\n",
    "    return lst"
   ]
  },
  {
   "cell_type": "code",
   "execution_count": 11,
   "metadata": {},
   "outputs": [],
   "source": [
    "subjects_lst = extract(df_idle) + extract(df_running) + extract(df_stairs) + extract(df_walking)"
   ]
  },
  {
   "cell_type": "code",
   "execution_count": 12,
   "metadata": {},
   "outputs": [
    {
     "data": {
      "text/plain": [
       "6462"
      ]
     },
     "execution_count": 12,
     "metadata": {},
     "output_type": "execute_result"
    }
   ],
   "source": [
    "len(subjects_lst) # putting all the observations in the format of numpy array in one list, mb it will come in handy"
   ]
  },
  {
   "cell_type": "code",
   "execution_count": 13,
   "metadata": {},
   "outputs": [
    {
     "data": {
      "text/plain": [
       "array([[  4.97994 ,  -4.276044,  -2.542642,   2.      ],\n",
       "       [  0.3304  ,   8.628703,   0.56982 ,   2.      ],\n",
       "       [ -1.49877 ,  10.01734 ,  -1.958457,   2.      ],\n",
       "       [ 17.592594,  16.730682,  -0.914585,   2.      ],\n",
       "       [ -5.051765,   9.433155,  -1.288081,   2.      ],\n",
       "       [  4.180277,  -5.267244,  -5.262455,   2.      ],\n",
       "       [  1.733402,   6.344635,   1.206678,   2.      ],\n",
       "       [ -0.675165,   2.39899 ,  -6.861782,   2.      ],\n",
       "       [  6.220136,  21.796812,   5.425261,   2.      ],\n",
       "       [ -3.308787,   7.182606,  -5.832275,   2.      ],\n",
       "       [  3.155558, -28.3665  ,  -8.542512,   2.      ],\n",
       "       [  6.550536,   5.406108,  -0.842759,   2.      ],\n",
       "       [  6.124368,  23.99469 ,  10.43872 ,   2.      ],\n",
       "       [  1.728614,  -1.862689,  -4.084508,   2.      ],\n",
       "       [ -3.351882,   7.206548,   3.940856,   2.      ],\n",
       "       [  3.969586,   4.146757,  -3.289633,   2.      ],\n",
       "       [  4.817134,  -6.703765,  -2.255338,   2.      ],\n",
       "       [ -0.3304  ,   3.040636,   2.935291,   2.      ],\n",
       "       [ 10.0748  ,  12.818556,  -3.552995,   2.      ],\n",
       "       [ 12.354081,  17.24304 ,   7.469909,   2.      ],\n",
       "       [ -5.827487,   8.724471,  -5.51624 ,   2.      ],\n",
       "       [  8.044518, -15.576676,   3.102886,   2.      ],\n",
       "       [ -1.316811,   0.847547,  -1.805228,   2.      ],\n",
       "       [ 24.98589 ,  32.65691 ,  24.827871,   2.      ],\n",
       "       [  8.705317,   5.64074 ,  -5.305551,   2.      ],\n",
       "       [ -8.75799 ,  -0.526724,   4.050989,   2.      ],\n",
       "       [ 19.479225,  33.466152,   5.200207,   2.      ],\n",
       "       [  7.417237,  -0.244209,  -2.255338,   2.      ],\n",
       "       [ -1.651999,   2.466028,  -6.038176,   2.      ],\n",
       "       [  5.501876,  -5.999869,  -0.507571,   2.      ]])"
      ]
     },
     "execution_count": 13,
     "metadata": {},
     "output_type": "execute_result"
    }
   ],
   "source": [
    "subjects_lst[3000] # looks like this"
   ]
  },
  {
   "cell_type": "code",
   "execution_count": 14,
   "metadata": {},
   "outputs": [],
   "source": [
    "one_person_move = np.vstack((subjects_lst[1500], subjects_lst[10],subjects_lst[4500], subjects_lst[5500],subjects_lst[100],subjects_lst[1600]))"
   ]
  },
  {
   "cell_type": "code",
   "execution_count": null,
   "metadata": {},
   "outputs": [],
   "source": [
    "one_person_move # let that be theoretically some random person movement for 3 minutes (each state lasted for 30 sec as the data says)\n",
    "# running --> idle --> stairs --> walking --> idle --> running"
   ]
  },
  {
   "cell_type": "code",
   "execution_count": 16,
   "metadata": {},
   "outputs": [],
   "source": [
    "def plot_smth(sub):\n",
    "    plt.figure(figsize=(10,9))\n",
    "    for col in range(sub.shape[1]):\n",
    "        plt.subplot(sub.shape[1], 1, col+1)\n",
    "        plt.plot(sub[:,col],color = 'red')\n",
    "    plt.show()"
   ]
  },
  {
   "cell_type": "code",
   "execution_count": 17,
   "metadata": {},
   "outputs": [
    {
     "data": {
      "image/png": "[encoded data removed]",
      "text/plain": [
       "<Figure size 720x648 with 4 Axes>"
      ]
     },
     "metadata": {
      "needs_background": "light"
     },
     "output_type": "display_data"
    }
   ],
   "source": [
    "plot_smth(one_person_move) # just some additional visualizations"
   ]
  },
  {
   "cell_type": "markdown",
   "metadata": {},
   "source": [
    " The chart above let us see the way the real accelerometer data looks like, with the clear change of states and coordinates "
   ]
  },
  {
   "cell_type": "code",
   "execution_count": 18,
   "metadata": {},
   "outputs": [],
   "source": [
    "df = pd.concat((df_idle,df_running,df_stairs,df_walking),axis=0)\n",
    "df = df.reset_index().drop(columns=['obs','state'])\n",
    "ids = []\n",
    "for j in range(int(len(df)/30)):  # a little bit of 'kostyls' for making it look as good as never\n",
    "    for i in range(30):\n",
    "        ids.append(j)\n",
    "df['person id'] = ids    \n",
    "df.set_index('person id',inplace=True)  "
   ]
  },
  {
   "cell_type": "code",
   "execution_count": 20,
   "metadata": {},
   "outputs": [
    {
     "data": {
      "text/plain": [
       "array([[<matplotlib.axes._subplots.AxesSubplot object at 0x000001FD40AB4190>]],\n",
       "      dtype=object)"
      ]
     },
     "execution_count": 20,
     "metadata": {},
     "output_type": "execute_result"
    },
    {
     "data": {
      "image/png": "[encoded data removed]",
      "text/plain": [
       "<Figure size 432x288 with 1 Axes>"
      ]
     },
     "metadata": {
      "needs_background": "light"
     },
     "output_type": "display_data"
    }
   ],
   "source": [
    "df.hist('status',color = 'red') # thats the distribution of the activities btw, most of the data related to the running"
   ]
  },
  {
   "cell_type": "code",
   "execution_count": 47,
   "metadata": {},
   "outputs": [
    {
     "data": {
      "text/plain": [
       "2    102240\n",
       "4     55500\n",
       "1     31170\n",
       "3      4950\n",
       "Name: status, dtype: int64"
      ]
     },
     "execution_count": 47,
     "metadata": {},
     "output_type": "execute_result"
    }
   ],
   "source": [
    "df.status.value_counts()"
   ]
  },
  {
   "cell_type": "markdown",
   "metadata": {},
   "source": [
    "The simpliest classifier can be built with the use of the distribution above: \n",
    "the random observation (which technically consists of 30 observations) can be given its activity type value with some probability, which corresponds to the probability of each activity type being occured in data"
   ]
  },
  {
   "cell_type": "code",
   "execution_count": 49,
   "metadata": {},
   "outputs": [],
   "source": [
    "t2proba,t4proba,t1proba,t3proba = 102240/len(df),55500/len(df),31170/len(df),4950/len(df)"
   ]
  },
  {
   "cell_type": "code",
   "execution_count": 50,
   "metadata": {},
   "outputs": [
    {
     "data": {
      "text/plain": [
       "0.5273909006499535"
      ]
     },
     "execution_count": 50,
     "metadata": {},
     "output_type": "execute_result"
    }
   ],
   "source": [
    "t2proba # for example with prob of 52% every observation will be given an activity type 'running' and so on"
   ]
  },
  {
   "cell_type": "code",
   "execution_count": 71,
   "metadata": {},
   "outputs": [
    {
     "data": {
      "text/plain": [
       "(527.3909006499536, 286.2890745899103, 160.7861343237388, 25.5338904363974)"
      ]
     },
     "execution_count": 71,
     "metadata": {},
     "output_type": "execute_result"
    }
   ],
   "source": [
    "t2proba*1000,t4proba*1000,t1proba*1000,t3proba*1000"
   ]
  },
  {
   "cell_type": "code",
   "execution_count": 77,
   "metadata": {},
   "outputs": [],
   "source": [
    "import random\n",
    "from sklearn.metrics import classification_report, accuracy_score"
   ]
  },
  {
   "cell_type": "code",
   "execution_count": 91,
   "metadata": {},
   "outputs": [],
   "source": [
    "ys_true = df.iloc[::30, :].status"
   ]
  },
  {
   "cell_type": "code",
   "execution_count": 78,
   "metadata": {},
   "outputs": [],
   "source": [
    "def pseudo_random_classifier():\n",
    "    y_rand_pred = []\n",
    "    for i in range(len(ys_true)):\n",
    "        num = random.randrange(1000)\n",
    "        if 0<=num<527: # 2nd activity has 52% chance\n",
    "            y_rand_pred.append(2)\n",
    "        elif 527<=num<813:\n",
    "            y_rand_pred.append(4) #28% for 4th \n",
    "        elif 813<=num<973:\n",
    "            y_rand_pred.append(1)\n",
    "        else: y_rand_pred.append(3)\n",
    "    return y_rand_pred      "
   ]
  },
  {
   "cell_type": "code",
   "execution_count": 121,
   "metadata": {},
   "outputs": [],
   "source": [
    "y_rand = pseudo_random_classifier()\n",
    "random.shuffle(ys_true) # shuffle y_true so it wont be ordered"
   ]
  },
  {
   "cell_type": "code",
   "execution_count": 122,
   "metadata": {},
   "outputs": [
    {
     "name": "stdout",
     "output_type": "stream",
     "text": [
      "              precision    recall  f1-score   support\n",
      "\n",
      "           1       0.17      0.17      0.17      1039\n",
      "           2       0.53      0.53      0.53      3408\n",
      "           3       0.04      0.05      0.05       165\n",
      "           4       0.30      0.30      0.30      1850\n",
      "\n",
      "    accuracy                           0.39      6462\n",
      "   macro avg       0.26      0.26      0.26      6462\n",
      "weighted avg       0.39      0.39      0.39      6462\n",
      "\n",
      "accuracy score is 39.38%\n"
     ]
    }
   ],
   "source": [
    "print(classification_report(ys_true,y_rand))\n",
    "print(f'accuracy score is {100*accuracy_score(ys_true,y_rand):.2f}%')"
   ]
  },
  {
   "cell_type": "markdown",
   "metadata": {},
   "source": [
    "Ok, lets consider this thing a 'classifier' and try to beat it with smth better =)"
   ]
  },
  {
   "cell_type": "markdown",
   "metadata": {},
   "source": [
    "### Now its time for some data science"
   ]
  },
  {
   "cell_type": "code",
   "execution_count": null,
   "metadata": {},
   "outputs": [],
   "source": [
    "\"\"\"\n",
    "The thing here, is that i wanted to use some plain aggregated data to build simple knn model, and then improve the result by adding \n",
    "more feature etc. However, even the first 'plain' model showed very good accuracy, bruh.\n",
    "\"\"\""
   ]
  },
  {
   "cell_type": "code",
   "execution_count": null,
   "metadata": {},
   "outputs": [],
   "source": [
    "indeces = [*range(6462)] # cause data is ordered in some bad way, we cannot just shuffle and use train-test split, that will break person id\n",
    "train_indeces = [i for i in indeces if i%3 != 0]\n",
    "test_indeces = [i for i in indeces if i%3 == 0] "
   ]
  },
  {
   "cell_type": "code",
   "execution_count": 22,
   "metadata": {},
   "outputs": [],
   "source": [
    "df_train = df[df.index.isin(train_indeces)]  # so I performed train/test split like this, still ok\n",
    "df_test = df[df.index.isin(test_indeces)]"
   ]
  },
  {
   "cell_type": "code",
   "execution_count": 23,
   "metadata": {},
   "outputs": [],
   "source": [
    "from sklearn.preprocessing import RobustScaler # why using robust instead of a plain scaler? it's robust - it's cooler"
   ]
  },
  {
   "cell_type": "code",
   "execution_count": null,
   "metadata": {},
   "outputs": [],
   "source": [
    "cols = df.columns[:-1]\n",
    "scaler = RobustScaler().fit(df_train[cols])\n",
    "df_train.loc[:,cols] = scaler.transform(df_train[cols]) # scaled the data \n",
    "df_test.loc[:,cols] = scaler.transform(df_test[cols])"
   ]
  },
  {
   "cell_type": "code",
   "execution_count": 25,
   "metadata": {},
   "outputs": [],
   "source": [
    "df_train_t = df_train.groupby('person id').mean() # we used mean value on every accelerometer coordinate of 30 obs (for one person) as a feature\n",
    "df_test_t = df_test.groupby('person id').mean()"
   ]
  },
  {
   "cell_type": "code",
   "execution_count": 26,
   "metadata": {},
   "outputs": [],
   "source": [
    "X_train, y_train, X_test, y_test = df_train_t[cols].values, df_train_t.status.values, df_test_t[cols].values, df_test_t.status.values"
   ]
  },
  {
   "cell_type": "code",
   "execution_count": 27,
   "metadata": {},
   "outputs": [],
   "source": [
    "from sklearn.neighbors import KNeighborsClassifier # gonna use this thing for classification"
   ]
  },
  {
   "cell_type": "code",
   "execution_count": 28,
   "metadata": {},
   "outputs": [
    {
     "data": {
      "text/plain": [
       "KNeighborsClassifier()"
      ]
     },
     "execution_count": 28,
     "metadata": {},
     "output_type": "execute_result"
    }
   ],
   "source": [
    "classifier = KNeighborsClassifier(n_neighbors=5) # taking 5 neighbors here 'cause why not\n",
    "classifier.fit(X_train,y_train)"
   ]
  },
  {
   "cell_type": "code",
   "execution_count": 29,
   "metadata": {},
   "outputs": [],
   "source": [
    "y_pred = classifier.predict(X_test)"
   ]
  },
  {
   "cell_type": "code",
   "execution_count": 31,
   "metadata": {},
   "outputs": [
    {
     "name": "stdout",
     "output_type": "stream",
     "text": [
      "              precision    recall  f1-score   support\n",
      "\n",
      "           1       1.00      1.00      1.00       347\n",
      "           2       1.00      1.00      1.00      1136\n",
      "           3       0.88      0.65      0.75        55\n",
      "           4       0.97      0.99      0.98       616\n",
      "\n",
      "    accuracy                           0.99      2154\n",
      "   macro avg       0.96      0.91      0.93      2154\n",
      "weighted avg       0.99      0.99      0.99      2154\n",
      "\n",
      "accuracy score is 98.89%\n"
     ]
    }
   ],
   "source": [
    "print(classification_report(y_test,y_pred)) # well, this stuff is already a beast!\n",
    "print(f'accuracy score is {100*accuracy_score(y_test,y_pred):.2f}%')"
   ]
  },
  {
   "cell_type": "markdown",
   "metadata": {},
   "source": [
    "### The accuracy is great, but it is too simple by now - lets try ... feature engineering!"
   ]
  },
  {
   "cell_type": "code",
   "execution_count": null,
   "metadata": {},
   "outputs": [],
   "source": [
    "'''\n",
    "Which features can be usefull? The internet says that these guys will help me here:\n",
    "\n",
    "Range: The acceleration amplitude\n",
    "--------------------------------------------------------------------------\n",
    "Mean: The average value of the magnitude samples over a time window (always 30 in our case)\n",
    "--------------------------------------------------------------------------\n",
    "Variance: Average of the squared differences of the sample values from the mean value over a time window.\n",
    "--------------------------------------------------------------------------\n",
    "Root Mean Square (RMS): The root mean square is the square root of the sums of each data over a window, divided by the sample size.\n",
    "--------------------------------------------------------------------------\n",
    "Zero-Crossing Rate (ZCR):The number of points where a signal crosses through a specific value corresponding to half of \n",
    "the signal range. \n",
    "--------------------------------------------------------------------------\n",
    "Absolute  Difference (ABSDIFF): Sum of the differences from between each magnitude sample and the mean of that window \n",
    "divided by the number of data points. \n",
    "--------------------------------------------------------------------------\n",
    "First 5-FFT Coefficients: the first 5 of the fast-Fourier transform coefficients are taken since they capture the main frequency components.\n",
    "(i guess i messed up with fft coefs (see below), so i didnt use this one)\n",
    "'''\n"
   ]
  },
  {
   "cell_type": "code",
   "execution_count": 33,
   "metadata": {},
   "outputs": [],
   "source": [
    "from math import sqrt\n",
    "from scipy.fft import fft, ifft"
   ]
  },
  {
   "cell_type": "code",
   "execution_count": 34,
   "metadata": {},
   "outputs": [],
   "source": [
    "def I_am_engineer(df):\n",
    "    result = pd.DataFrame()\n",
    "    some_random_counter = 0\n",
    "    for i,g in df.groupby('person id'): #grouping by the same id and collect the features\n",
    "        zero_patient = g\n",
    "        rang = []\n",
    "        mean = []\n",
    "        var = []\n",
    "        rms = []\n",
    "        zcr = []\n",
    "        absdiff = []\n",
    "        fft5 = []\n",
    "        for z in zero_patient.columns[:-1]:\n",
    "            what_i_need = zero_patient[z]\n",
    "            rang.append(abs(max(what_i_need)-min(what_i_need))) # range\n",
    "            mean.append(np.mean(what_i_need)) # mean\n",
    "            var.append(np.var(what_i_need)) # var\n",
    "            rms.append(np.sqrt(abs(sum(what_i_need)))/what_i_need.size) # square root of sum divided on amount of samples \n",
    "            cross_point = (min(what_i_need)+max(what_i_need))/2\n",
    "            zcr_counter = 0\n",
    "            is_under = False if what_i_need.iloc[0]>cross_point else True # some simple logic to catch median point crossing\n",
    "            for i in range(1,what_i_need.size):\n",
    "                if what_i_need.iloc[i]>cross_point and is_under == True:\n",
    "                    is_under = False\n",
    "                    zcr_counter +=1\n",
    "                elif what_i_need.iloc[i]<cross_point and is_under == False:\n",
    "                    is_under = True\n",
    "                    zcr_counter +=1\n",
    "                else: pass\n",
    "            zcr.append(zcr_counter) # number of crosses\n",
    "            absdiff.append(sum([i-np.mean(what_i_need) for i in what_i_need])/what_i_need.size) #sum of value minus mean divided on sample size\n",
    "            #fft5.append(ifft(fft(what_i_need.values))[:5]) #first 5 FFT coefs, something went wrong, aint using it\n",
    "            \n",
    "        features_values = rang+mean+var+rms+zcr+absdiff+list(zero_patient['status'])\n",
    "        features_names = ['x range', 'y range', 'z range','x mean', 'y mean', 'z mean', 'x var', 'y var', 'z var', 'x rms', 'y rms', 'z rms',\\\n",
    "                 'x zcr', 'y zcr', 'z zcr','x abs', 'y abs', 'z abs','activity type']\n",
    "        dicki_johns = {i:j for i,j in zip(features_names,features_values)} # dict with all i need\n",
    "        \n",
    "        result = pd.concat((result,pd.DataFrame(dicki_johns,index = [some_random_counter])),axis=0) \n",
    "        some_random_counter+=1\n",
    "    return result"
   ]
  },
  {
   "cell_type": "code",
   "execution_count": 35,
   "metadata": {},
   "outputs": [],
   "source": [
    "mr_dataframe = I_am_engineer(df)"
   ]
  },
  {
   "cell_type": "code",
   "execution_count": 36,
   "metadata": {},
   "outputs": [
    {
     "data": {
      "text/html": [
       "<div>\n",
       "<style scoped>\n",
       "    .dataframe tbody tr th:only-of-type {\n",
       "        vertical-align: middle;\n",
       "    }\n",
       "\n",
       "    .dataframe tbody tr th {\n",
       "        vertical-align: top;\n",
       "    }\n",
       "\n",
       "    .dataframe thead th {\n",
       "        text-align: right;\n",
       "    }\n",
       "</style>\n",
       "<table border=\"1\" class=\"dataframe\">\n",
       "  <thead>\n",
       "    <tr style=\"text-align: right;\">\n",
       "      <th></th>\n",
       "      <th>x range</th>\n",
       "      <th>y range</th>\n",
       "      <th>z range</th>\n",
       "      <th>x mean</th>\n",
       "      <th>y mean</th>\n",
       "      <th>z mean</th>\n",
       "      <th>x var</th>\n",
       "      <th>y var</th>\n",
       "      <th>z var</th>\n",
       "      <th>x rms</th>\n",
       "      <th>y rms</th>\n",
       "      <th>z rms</th>\n",
       "      <th>x zcr</th>\n",
       "      <th>y zcr</th>\n",
       "      <th>z zcr</th>\n",
       "      <th>x abs</th>\n",
       "      <th>y abs</th>\n",
       "      <th>z abs</th>\n",
       "      <th>activity type</th>\n",
       "    </tr>\n",
       "  </thead>\n",
       "  <tbody>\n",
       "    <tr>\n",
       "      <th>0</th>\n",
       "      <td>6.009447</td>\n",
       "      <td>4.898537</td>\n",
       "      <td>1.388636</td>\n",
       "      <td>0.178448</td>\n",
       "      <td>0.167435</td>\n",
       "      <td>9.605697</td>\n",
       "      <td>1.038242</td>\n",
       "      <td>1.295378</td>\n",
       "      <td>0.160051</td>\n",
       "      <td>0.077125</td>\n",
       "      <td>0.074707</td>\n",
       "      <td>0.565853</td>\n",
       "      <td>2</td>\n",
       "      <td>1</td>\n",
       "      <td>3</td>\n",
       "      <td>-2.405483e-17</td>\n",
       "      <td>0.000000e+00</td>\n",
       "      <td>-1.184238e-16</td>\n",
       "      <td>1</td>\n",
       "    </tr>\n",
       "    <tr>\n",
       "      <th>1</th>\n",
       "      <td>6.009447</td>\n",
       "      <td>0.430957</td>\n",
       "      <td>1.388636</td>\n",
       "      <td>0.113166</td>\n",
       "      <td>-0.135352</td>\n",
       "      <td>9.690771</td>\n",
       "      <td>1.007678</td>\n",
       "      <td>0.005451</td>\n",
       "      <td>0.074906</td>\n",
       "      <td>0.061418</td>\n",
       "      <td>0.067169</td>\n",
       "      <td>0.568353</td>\n",
       "      <td>2</td>\n",
       "      <td>4</td>\n",
       "      <td>2</td>\n",
       "      <td>-1.184238e-16</td>\n",
       "      <td>-2.590520e-17</td>\n",
       "      <td>-5.329071e-16</td>\n",
       "      <td>1</td>\n",
       "    </tr>\n",
       "    <tr>\n",
       "      <th>2</th>\n",
       "      <td>2.082955</td>\n",
       "      <td>0.268151</td>\n",
       "      <td>0.555455</td>\n",
       "      <td>-0.034636</td>\n",
       "      <td>-0.139343</td>\n",
       "      <td>9.755414</td>\n",
       "      <td>0.125810</td>\n",
       "      <td>0.002034</td>\n",
       "      <td>0.009344</td>\n",
       "      <td>0.033978</td>\n",
       "      <td>0.068152</td>\n",
       "      <td>0.570246</td>\n",
       "      <td>1</td>\n",
       "      <td>8</td>\n",
       "      <td>1</td>\n",
       "      <td>-2.775558e-18</td>\n",
       "      <td>-1.387779e-17</td>\n",
       "      <td>-1.065814e-15</td>\n",
       "      <td>1</td>\n",
       "    </tr>\n",
       "    <tr>\n",
       "      <th>3</th>\n",
       "      <td>0.727837</td>\n",
       "      <td>0.268151</td>\n",
       "      <td>0.138863</td>\n",
       "      <td>-0.098960</td>\n",
       "      <td>-0.137587</td>\n",
       "      <td>9.772653</td>\n",
       "      <td>0.014548</td>\n",
       "      <td>0.002022</td>\n",
       "      <td>0.000572</td>\n",
       "      <td>0.057434</td>\n",
       "      <td>0.067722</td>\n",
       "      <td>0.570750</td>\n",
       "      <td>2</td>\n",
       "      <td>8</td>\n",
       "      <td>2</td>\n",
       "      <td>-6.013708e-18</td>\n",
       "      <td>2.266705e-17</td>\n",
       "      <td>1.006602e-15</td>\n",
       "      <td>1</td>\n",
       "    </tr>\n",
       "    <tr>\n",
       "      <th>4</th>\n",
       "      <td>0.727837</td>\n",
       "      <td>0.268151</td>\n",
       "      <td>0.138863</td>\n",
       "      <td>-0.098322</td>\n",
       "      <td>-0.134075</td>\n",
       "      <td>9.771216</td>\n",
       "      <td>0.014882</td>\n",
       "      <td>0.002111</td>\n",
       "      <td>0.000622</td>\n",
       "      <td>0.057249</td>\n",
       "      <td>0.066852</td>\n",
       "      <td>0.570708</td>\n",
       "      <td>2</td>\n",
       "      <td>9</td>\n",
       "      <td>3</td>\n",
       "      <td>1.850372e-18</td>\n",
       "      <td>-6.013708e-18</td>\n",
       "      <td>2.486900e-15</td>\n",
       "      <td>1</td>\n",
       "    </tr>\n",
       "    <tr>\n",
       "      <th>...</th>\n",
       "      <td>...</td>\n",
       "      <td>...</td>\n",
       "      <td>...</td>\n",
       "      <td>...</td>\n",
       "      <td>...</td>\n",
       "      <td>...</td>\n",
       "      <td>...</td>\n",
       "      <td>...</td>\n",
       "      <td>...</td>\n",
       "      <td>...</td>\n",
       "      <td>...</td>\n",
       "      <td>...</td>\n",
       "      <td>...</td>\n",
       "      <td>...</td>\n",
       "      <td>...</td>\n",
       "      <td>...</td>\n",
       "      <td>...</td>\n",
       "      <td>...</td>\n",
       "      <td>...</td>\n",
       "    </tr>\n",
       "    <tr>\n",
       "      <th>6457</th>\n",
       "      <td>34.438196</td>\n",
       "      <td>31.253910</td>\n",
       "      <td>24.234110</td>\n",
       "      <td>-0.140300</td>\n",
       "      <td>-9.673852</td>\n",
       "      <td>-2.604891</td>\n",
       "      <td>32.089108</td>\n",
       "      <td>36.784210</td>\n",
       "      <td>41.056529</td>\n",
       "      <td>0.068386</td>\n",
       "      <td>0.567857</td>\n",
       "      <td>0.294669</td>\n",
       "      <td>6</td>\n",
       "      <td>16</td>\n",
       "      <td>12</td>\n",
       "      <td>-8.881784e-17</td>\n",
       "      <td>1.302662e-15</td>\n",
       "      <td>-1.776357e-16</td>\n",
       "      <td>4</td>\n",
       "    </tr>\n",
       "    <tr>\n",
       "      <th>6458</th>\n",
       "      <td>34.438196</td>\n",
       "      <td>31.253910</td>\n",
       "      <td>24.234110</td>\n",
       "      <td>-0.092576</td>\n",
       "      <td>-9.694282</td>\n",
       "      <td>-2.349510</td>\n",
       "      <td>34.051545</td>\n",
       "      <td>36.643400</td>\n",
       "      <td>40.911474</td>\n",
       "      <td>0.055550</td>\n",
       "      <td>0.568456</td>\n",
       "      <td>0.279852</td>\n",
       "      <td>6</td>\n",
       "      <td>15</td>\n",
       "      <td>11</td>\n",
       "      <td>7.401487e-17</td>\n",
       "      <td>1.953993e-15</td>\n",
       "      <td>2.072416e-16</td>\n",
       "      <td>4</td>\n",
       "    </tr>\n",
       "    <tr>\n",
       "      <th>6459</th>\n",
       "      <td>34.438196</td>\n",
       "      <td>31.253910</td>\n",
       "      <td>23.745694</td>\n",
       "      <td>0.326569</td>\n",
       "      <td>-9.496362</td>\n",
       "      <td>-1.819434</td>\n",
       "      <td>35.125860</td>\n",
       "      <td>35.618804</td>\n",
       "      <td>32.648722</td>\n",
       "      <td>0.104334</td>\n",
       "      <td>0.562624</td>\n",
       "      <td>0.246268</td>\n",
       "      <td>6</td>\n",
       "      <td>15</td>\n",
       "      <td>10</td>\n",
       "      <td>-1.480297e-16</td>\n",
       "      <td>8.585725e-16</td>\n",
       "      <td>8.141636e-17</td>\n",
       "      <td>4</td>\n",
       "    </tr>\n",
       "    <tr>\n",
       "      <th>6460</th>\n",
       "      <td>34.438196</td>\n",
       "      <td>31.253910</td>\n",
       "      <td>23.745694</td>\n",
       "      <td>0.903253</td>\n",
       "      <td>-9.713595</td>\n",
       "      <td>-1.823903</td>\n",
       "      <td>37.577583</td>\n",
       "      <td>34.326439</td>\n",
       "      <td>32.339091</td>\n",
       "      <td>0.173518</td>\n",
       "      <td>0.569022</td>\n",
       "      <td>0.246570</td>\n",
       "      <td>6</td>\n",
       "      <td>15</td>\n",
       "      <td>10</td>\n",
       "      <td>-2.072416e-16</td>\n",
       "      <td>-1.450691e-15</td>\n",
       "      <td>5.921189e-17</td>\n",
       "      <td>4</td>\n",
       "    </tr>\n",
       "    <tr>\n",
       "      <th>6461</th>\n",
       "      <td>18.760964</td>\n",
       "      <td>26.245240</td>\n",
       "      <td>28.610712</td>\n",
       "      <td>2.142491</td>\n",
       "      <td>-9.276893</td>\n",
       "      <td>-0.584824</td>\n",
       "      <td>20.182641</td>\n",
       "      <td>31.105224</td>\n",
       "      <td>32.424559</td>\n",
       "      <td>0.267238</td>\n",
       "      <td>0.556084</td>\n",
       "      <td>0.139621</td>\n",
       "      <td>12</td>\n",
       "      <td>7</td>\n",
       "      <td>10</td>\n",
       "      <td>2.960595e-17</td>\n",
       "      <td>8.881784e-16</td>\n",
       "      <td>5.329071e-16</td>\n",
       "      <td>4</td>\n",
       "    </tr>\n",
       "  </tbody>\n",
       "</table>\n",
       "<p>6462 rows × 19 columns</p>\n",
       "</div>"
      ],
      "text/plain": [
       "        x range    y range    z range    x mean    y mean    z mean  \\\n",
       "0      6.009447   4.898537   1.388636  0.178448  0.167435  9.605697   \n",
       "1      6.009447   0.430957   1.388636  0.113166 -0.135352  9.690771   \n",
       "2      2.082955   0.268151   0.555455 -0.034636 -0.139343  9.755414   \n",
       "3      0.727837   0.268151   0.138863 -0.098960 -0.137587  9.772653   \n",
       "4      0.727837   0.268151   0.138863 -0.098322 -0.134075  9.771216   \n",
       "...         ...        ...        ...       ...       ...       ...   \n",
       "6457  34.438196  31.253910  24.234110 -0.140300 -9.673852 -2.604891   \n",
       "6458  34.438196  31.253910  24.234110 -0.092576 -9.694282 -2.349510   \n",
       "6459  34.438196  31.253910  23.745694  0.326569 -9.496362 -1.819434   \n",
       "6460  34.438196  31.253910  23.745694  0.903253 -9.713595 -1.823903   \n",
       "6461  18.760964  26.245240  28.610712  2.142491 -9.276893 -0.584824   \n",
       "\n",
       "          x var      y var      z var     x rms     y rms     z rms  x zcr  \\\n",
       "0      1.038242   1.295378   0.160051  0.077125  0.074707  0.565853      2   \n",
       "1      1.007678   0.005451   0.074906  0.061418  0.067169  0.568353      2   \n",
       "2      0.125810   0.002034   0.009344  0.033978  0.068152  0.570246      1   \n",
       "3      0.014548   0.002022   0.000572  0.057434  0.067722  0.570750      2   \n",
       "4      0.014882   0.002111   0.000622  0.057249  0.066852  0.570708      2   \n",
       "...         ...        ...        ...       ...       ...       ...    ...   \n",
       "6457  32.089108  36.784210  41.056529  0.068386  0.567857  0.294669      6   \n",
       "6458  34.051545  36.643400  40.911474  0.055550  0.568456  0.279852      6   \n",
       "6459  35.125860  35.618804  32.648722  0.104334  0.562624  0.246268      6   \n",
       "6460  37.577583  34.326439  32.339091  0.173518  0.569022  0.246570      6   \n",
       "6461  20.182641  31.105224  32.424559  0.267238  0.556084  0.139621     12   \n",
       "\n",
       "      y zcr  z zcr         x abs         y abs         z abs  activity type  \n",
       "0         1      3 -2.405483e-17  0.000000e+00 -1.184238e-16              1  \n",
       "1         4      2 -1.184238e-16 -2.590520e-17 -5.329071e-16              1  \n",
       "2         8      1 -2.775558e-18 -1.387779e-17 -1.065814e-15              1  \n",
       "3         8      2 -6.013708e-18  2.266705e-17  1.006602e-15              1  \n",
       "4         9      3  1.850372e-18 -6.013708e-18  2.486900e-15              1  \n",
       "...     ...    ...           ...           ...           ...            ...  \n",
       "6457     16     12 -8.881784e-17  1.302662e-15 -1.776357e-16              4  \n",
       "6458     15     11  7.401487e-17  1.953993e-15  2.072416e-16              4  \n",
       "6459     15     10 -1.480297e-16  8.585725e-16  8.141636e-17              4  \n",
       "6460     15     10 -2.072416e-16 -1.450691e-15  5.921189e-17              4  \n",
       "6461      7     10  2.960595e-17  8.881784e-16  5.329071e-16              4  \n",
       "\n",
       "[6462 rows x 19 columns]"
      ]
     },
     "execution_count": 36,
     "metadata": {},
     "output_type": "execute_result"
    }
   ],
   "source": [
    "mr_dataframe # well thats alot of (numbers) features, hope they are usefull enough"
   ]
  },
  {
   "cell_type": "code",
   "execution_count": 37,
   "metadata": {},
   "outputs": [],
   "source": [
    "from sklearn.model_selection import train_test_split #now we can use the normal split"
   ]
  },
  {
   "cell_type": "code",
   "execution_count": 38,
   "metadata": {},
   "outputs": [],
   "source": [
    "X = mr_dataframe[mr_dataframe.columns[:-1]].values\n",
    "y = mr_dataframe['activity type'].values"
   ]
  },
  {
   "cell_type": "code",
   "execution_count": 148,
   "metadata": {},
   "outputs": [],
   "source": [
    "X_train_new, X_test_new, y_train_new, y_test_new = train_test_split(X, y, test_size=0.2, random_state=2)"
   ]
  },
  {
   "cell_type": "code",
   "execution_count": 149,
   "metadata": {},
   "outputs": [],
   "source": [
    "from sklearn.preprocessing import StandardScaler #try standart scaler this time"
   ]
  },
  {
   "cell_type": "code",
   "execution_count": 150,
   "metadata": {},
   "outputs": [],
   "source": [
    "scaler = StandardScaler().fit(X_train_new)\n",
    "X_train_new = scaler.transform(X_train_new)\n",
    "X_test_new = scaler.transform(X_test_new)"
   ]
  },
  {
   "cell_type": "code",
   "execution_count": 151,
   "metadata": {},
   "outputs": [
    {
     "data": {
      "text/plain": [
       "KNeighborsClassifier(n_neighbors=15)"
      ]
     },
     "execution_count": 151,
     "metadata": {},
     "output_type": "execute_result"
    }
   ],
   "source": [
    "classifier_new = KNeighborsClassifier(n_neighbors=15) # same 5\n",
    "classifier_new.fit(X_train_new,y_train_new)"
   ]
  },
  {
   "cell_type": "code",
   "execution_count": 152,
   "metadata": {},
   "outputs": [
    {
     "name": "stdout",
     "output_type": "stream",
     "text": [
      "              precision    recall  f1-score   support\n",
      "\n",
      "           1       1.00      1.00      1.00       207\n",
      "           2       1.00      1.00      1.00       698\n",
      "           3       0.95      0.61      0.75        31\n",
      "           4       0.97      1.00      0.98       357\n",
      "\n",
      "    accuracy                           0.99      1293\n",
      "   macro avg       0.98      0.90      0.93      1293\n",
      "weighted avg       0.99      0.99      0.99      1293\n",
      "\n",
      "accuracy score is 98.99%\n"
     ]
    }
   ],
   "source": [
    "y_pred_new = classifier_new.predict(X_test_new)\n",
    "print(classification_report(y_test_new,y_pred_new)) \n",
    "print(f'accuracy score is {100*accuracy_score(y_test_new,y_pred_new):.2f}%')"
   ]
  },
  {
   "cell_type": "markdown",
   "metadata": {},
   "source": [
    "Well, the accuracy aint even alot better now!\n",
    "\n",
    "As the possible improvement options, one may add more complicated features, but it wont have much impact after all. The n_neighbors param also can be better here I suppose (however, I've tried a couple and 5 seems the best for me so far)\n",
    "\n",
    "Also there might be slightly better model with even 100% acc, but Im not sure)"
   ]
  },
  {
   "cell_type": "code",
   "execution_count": null,
   "metadata": {},
   "outputs": [],
   "source": [
    "pip freeze > requirements.txt"
   ]
  }
 ],
 "metadata": {
  "kernelspec": {
   "display_name": "Python 3",
   "language": "python",
   "name": "python3"
  },
  "language_info": {
   "codemirror_mode": {
    "name": "ipython",
    "version": 3
   },
   "file_extension": ".py",
   "mimetype": "text/x-python",
   "name": "python",
   "nbconvert_exporter": "python",
   "pygments_lexer": "ipython3",
   "version": "3.8.3"
  }
 },
 "nbformat": 4,
 "nbformat_minor": 4
}
